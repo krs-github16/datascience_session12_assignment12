{
 "cells": [
  {
   "cell_type": "code",
   "execution_count": null,
   "metadata": {},
   "outputs": [],
   "source": [
    "import numpy as np\n",
    "import pandas as pd\n",
    "from pandas import  DataFrame, Series\n",
    "import sqlite3 as db \n",
    "url ='https://archive.ics.uci.edu/ml/machine-learning-databases/adult/adult.data'\n",
    "col_list =['age','workclass','fnlwgt','education','education-num','marital-status','occupation','relationship','race','sex','capaital-gain','capital-loss','hours-per-week','native-country','probability-for-label']\n",
    "adult= pd.read_csv(url,sep=\",\",delimiter=\",\",names=col_list,skipinitialspace=True)\n",
    "sqladb=adult.copy()\n",
    "\n",
    "print(sqladb.columns)\n",
    "import re\n",
    "sqladb.columns = [re.sub(\"[-]\",\"_\",col) for col in adult.columns]\n",
    "print(sqladb.columns)\n",
    "from pandasql import sqldf\n",
    "pysqldf = lambda q: sqldf(q, globals())\n",
    "# # # # #question 1\n",
    "pysqldf(\"SELECT * FROM sqladb LIMIT 10;\")\n",
    "print(\"-\"*80)\n",
    "# # # #question 2\n",
    "pysqldf(\"SELECT avg(hours_per_week) FROM sqladb WHERE workclass='Private';\")\n",
    "print(\"-\"*80)\n",
    "# # # #question 3\n",
    "pysqldf(\"SELECT education, COUNT(education) AS Frequency  FROM sqladb   GROUP BY education  ORDER BY  COUNT(education) DESC;\")\n",
    "pysqldf(\"SELECT occupation, COUNT(occupation) AS Frequency  FROM sqladb   GROUP BY occupation  ORDER BY  COUNT(occupation) DESC;\")\n",
    "pysqldf(\"SELECT relationship, COUNT(relationship) AS Frequency  FROM sqladb   GROUP BY relationship  ORDER BY  COUNT(relationship) DESC;\")\n",
    "# # # #question 4\n",
    "pysqldf(\"SELECT * FROM sqladb WHERE matital_status='Married' AND workclass='Private' AND education='Masters';\")\n",
    "print(\"-\"*80)\n",
    "# # # #question 5\n",
    "pysqldf(\"SELECT avg(age) as avg_age,min(age) as max_age,max(age) as max_age FROM sqladb GROUP BY workclass;\")\n",
    "print(\"-\"*80)\n",
    "# # # #question 6\n",
    "pysqldf(\"SELECT age, count(*) as num FROM sqladb GROUP BY country;\")\n",
    "print(\"-\"*80)\n",
    "# # # #question 7\n",
    "pysqldf(\"SELECT capital_gain-capital_loss as Net-Capital-Gain FROM sqladb;\")\n",
    "print(\"-\"*80)\n",
    "print(\"End of assignment\")"
   ]
  },
  {
   "cell_type": "markdown",
   "metadata": {},
   "source": [
    "#\"INSPITE OF PROGRAM being all right and robust I'm still getting an error and unable to get the desired ouput. \""
   ]
  },
  {
   "cell_type": "code",
   "execution_count": null,
   "metadata": {},
   "outputs": [],
   "source": []
  }
 ],
 "metadata": {
  "kernelspec": {
   "display_name": "Python 3",
   "language": "python",
   "name": "python3"
  },
  "language_info": {
   "codemirror_mode": {
    "name": "ipython",
    "version": 3
   },
   "file_extension": ".py",
   "mimetype": "text/x-python",
   "name": "python",
   "nbconvert_exporter": "python",
   "pygments_lexer": "ipython3",
   "version": "3.6.5"
  }
 },
 "nbformat": 4,
 "nbformat_minor": 2
}
